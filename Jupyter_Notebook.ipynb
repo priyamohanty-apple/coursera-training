{
  "metadata": {
    "kernelspec": {
      "name": "python",
      "display_name": "Python (Pyodide)",
      "language": "python"
    },
    "language_info": {
      "codemirror_mode": {
        "name": "python",
        "version": 3
      },
      "file_extension": ".py",
      "mimetype": "text/x-python",
      "name": "python",
      "nbconvert_exporter": "python",
      "pygments_lexer": "ipython3",
      "version": "3.8"
    }
  },
  "nbformat_minor": 4,
  "nbformat": 4,
  "cells": [
    {
      "cell_type": "markdown",
      "source": "<center>\n    <img src=\"https://cf-courses-data.s3.us.cloud-object-storage.appdomain.cloud/IBMDeveloperSkillsNetwork-DS0105EN-SkillsNetwork/labs/Module2/images/SN_web_lightmode.png\" width=\"300\" alt=\"cognitiveclass.ai logo\">\n</center>\n",
      "metadata": {}
    },
    {
      "cell_type": "markdown",
      "source": "#### Add your code below following the instructions given in the course\n",
      "metadata": {}
    },
    {
      "cell_type": "markdown",
      "source": "<h1>Data Science Tools and Ecosystem<h1>\n",
      "metadata": {}
    },
    {
      "cell_type": "markdown",
      "source": "<h3>In this notebook, Data Science Tools and Ecosystem are summarized.</h3>",
      "metadata": {}
    },
    {
      "cell_type": "markdown",
      "source": "<h5>Some of the popular languages that Data Scientists use are:</h5>",
      "metadata": {}
    },
    {
      "cell_type": "markdown",
      "source": "<ol>\n<li>R</li>\n<li>Python</li>\n<li>Java</li>\n</ol>",
      "metadata": {}
    },
    {
      "cell_type": "markdown",
      "source": "<H5> Some of the commonly used libraries used by Data Scientists include: <H5>",
      "metadata": {}
    },
    {
      "cell_type": "markdown",
      "source": "<ol>\n<li>Pandas</li>\n<li>NumPy</li>\n<li>SciPy</li>\n</ol>",
      "metadata": {}
    },
    {
      "cell_type": "markdown",
      "source": "<table ><tr><th >Data Science Tools<th><th> <tr><td>Jupyter Notebook</td></tr>  <tr><td>RStudio</td></tr>  <tr><td>Apache Spark</td></tr> <table>",
      "metadata": {}
    },
    {
      "cell_type": "markdown",
      "source": "<H3>Below are a few examples of evaluating arithmetic expressions in Python.</H3>",
      "metadata": {}
    },
    {
      "cell_type": "code",
      "source": "3*4",
      "metadata": {
        "trusted": true
      },
      "outputs": [
        {
          "execution_count": 4,
          "output_type": "execute_result",
          "data": {
            "text/plain": "12"
          },
          "metadata": {}
        }
      ],
      "execution_count": 4
    },
    {
      "cell_type": "raw",
      "source": "This a simple arithmetic expression to mutiply then add integers",
      "metadata": {}
    },
    {
      "cell_type": "code",
      "source": "(3*4)+5",
      "metadata": {
        "trusted": true
      },
      "outputs": [
        {
          "execution_count": 5,
          "output_type": "execute_result",
          "data": {
            "text/plain": "17"
          },
          "metadata": {}
        }
      ],
      "execution_count": 5
    },
    {
      "cell_type": "raw",
      "source": "This will convert 200 minutes to hours by diving by 60",
      "metadata": {}
    },
    {
      "cell_type": "code",
      "source": "200*60",
      "metadata": {
        "trusted": true
      },
      "outputs": [
        {
          "execution_count": 6,
          "output_type": "execute_result",
          "data": {
            "text/plain": "12000"
          },
          "metadata": {}
        }
      ],
      "execution_count": 6
    },
    {
      "cell_type": "markdown",
      "source": "<h5>Objectives:</h5>",
      "metadata": {}
    },
    {
      "cell_type": "markdown",
      "source": "* tools used in data science\n* GitHub\n* R",
      "metadata": {}
    },
    {
      "cell_type": "markdown",
      "source": "<h2>Author</h2>",
      "metadata": {}
    },
    {
      "cell_type": "raw",
      "source": "Priyambada Mohanty",
      "metadata": {}
    },
    {
      "cell_type": "code",
      "source": "",
      "metadata": {
        "trusted": true
      },
      "outputs": [],
      "execution_count": null
    }
  ]
}